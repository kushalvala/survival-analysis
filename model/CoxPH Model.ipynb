{
 "cells": [
  {
   "cell_type": "code",
   "execution_count": 2,
   "metadata": {},
   "outputs": [],
   "source": [
    "# Importing necessary libraries\n",
    "\n",
    "import lifelines\n",
    "import pandas as pd\n",
    "import numpy as np\n",
    "import matplotlib.pyplot as plt\n",
    "import seaborn as sns\n",
    "%matplotlib inline"
   ]
  },
  {
   "cell_type": "code",
   "execution_count": 3,
   "metadata": {},
   "outputs": [],
   "source": [
    "# Reading the data\n",
    "\n",
    "df = pd.read_csv('heart-data.csv')"
   ]
  },
  {
   "cell_type": "code",
   "execution_count": 4,
   "metadata": {},
   "outputs": [
    {
     "data": {
      "text/html": [
       "<div>\n",
       "<style scoped>\n",
       "    .dataframe tbody tr th:only-of-type {\n",
       "        vertical-align: middle;\n",
       "    }\n",
       "\n",
       "    .dataframe tbody tr th {\n",
       "        vertical-align: top;\n",
       "    }\n",
       "\n",
       "    .dataframe thead th {\n",
       "        text-align: right;\n",
       "    }\n",
       "</style>\n",
       "<table border=\"1\" class=\"dataframe\">\n",
       "  <thead>\n",
       "    <tr style=\"text-align: right;\">\n",
       "      <th></th>\n",
       "      <th>id</th>\n",
       "      <th>death</th>\n",
       "      <th>los</th>\n",
       "      <th>age</th>\n",
       "      <th>gender</th>\n",
       "      <th>cancer</th>\n",
       "      <th>cabg</th>\n",
       "      <th>crt</th>\n",
       "      <th>defib</th>\n",
       "      <th>dementia</th>\n",
       "      <th>...</th>\n",
       "      <th>pacemaker</th>\n",
       "      <th>pneumonia</th>\n",
       "      <th>prior_appts_attended</th>\n",
       "      <th>prior_dnas</th>\n",
       "      <th>pci</th>\n",
       "      <th>stroke</th>\n",
       "      <th>senile</th>\n",
       "      <th>quintile</th>\n",
       "      <th>ethnicgroup</th>\n",
       "      <th>fu_time</th>\n",
       "    </tr>\n",
       "  </thead>\n",
       "  <tbody>\n",
       "    <tr>\n",
       "      <td>0</td>\n",
       "      <td>1</td>\n",
       "      <td>0</td>\n",
       "      <td>2</td>\n",
       "      <td>90</td>\n",
       "      <td>2</td>\n",
       "      <td>0</td>\n",
       "      <td>0</td>\n",
       "      <td>0</td>\n",
       "      <td>0</td>\n",
       "      <td>0</td>\n",
       "      <td>...</td>\n",
       "      <td>0</td>\n",
       "      <td>0</td>\n",
       "      <td>4</td>\n",
       "      <td>0</td>\n",
       "      <td>0</td>\n",
       "      <td>0</td>\n",
       "      <td>0</td>\n",
       "      <td>2.0</td>\n",
       "      <td>NaN</td>\n",
       "      <td>416</td>\n",
       "    </tr>\n",
       "    <tr>\n",
       "      <td>1</td>\n",
       "      <td>2</td>\n",
       "      <td>0</td>\n",
       "      <td>10</td>\n",
       "      <td>74</td>\n",
       "      <td>1</td>\n",
       "      <td>0</td>\n",
       "      <td>0</td>\n",
       "      <td>0</td>\n",
       "      <td>0</td>\n",
       "      <td>0</td>\n",
       "      <td>...</td>\n",
       "      <td>0</td>\n",
       "      <td>1</td>\n",
       "      <td>9</td>\n",
       "      <td>1</td>\n",
       "      <td>0</td>\n",
       "      <td>0</td>\n",
       "      <td>0</td>\n",
       "      <td>4.0</td>\n",
       "      <td>1.0</td>\n",
       "      <td>648</td>\n",
       "    </tr>\n",
       "    <tr>\n",
       "      <td>2</td>\n",
       "      <td>3</td>\n",
       "      <td>0</td>\n",
       "      <td>3</td>\n",
       "      <td>83</td>\n",
       "      <td>2</td>\n",
       "      <td>0</td>\n",
       "      <td>0</td>\n",
       "      <td>0</td>\n",
       "      <td>0</td>\n",
       "      <td>0</td>\n",
       "      <td>...</td>\n",
       "      <td>0</td>\n",
       "      <td>0</td>\n",
       "      <td>1</td>\n",
       "      <td>0</td>\n",
       "      <td>0</td>\n",
       "      <td>0</td>\n",
       "      <td>0</td>\n",
       "      <td>3.0</td>\n",
       "      <td>1.0</td>\n",
       "      <td>466</td>\n",
       "    </tr>\n",
       "    <tr>\n",
       "      <td>3</td>\n",
       "      <td>4</td>\n",
       "      <td>0</td>\n",
       "      <td>1</td>\n",
       "      <td>79</td>\n",
       "      <td>1</td>\n",
       "      <td>0</td>\n",
       "      <td>0</td>\n",
       "      <td>0</td>\n",
       "      <td>0</td>\n",
       "      <td>0</td>\n",
       "      <td>...</td>\n",
       "      <td>1</td>\n",
       "      <td>0</td>\n",
       "      <td>9</td>\n",
       "      <td>2</td>\n",
       "      <td>1</td>\n",
       "      <td>1</td>\n",
       "      <td>0</td>\n",
       "      <td>5.0</td>\n",
       "      <td>1.0</td>\n",
       "      <td>441</td>\n",
       "    </tr>\n",
       "    <tr>\n",
       "      <td>4</td>\n",
       "      <td>5</td>\n",
       "      <td>0</td>\n",
       "      <td>17</td>\n",
       "      <td>94</td>\n",
       "      <td>2</td>\n",
       "      <td>0</td>\n",
       "      <td>0</td>\n",
       "      <td>0</td>\n",
       "      <td>0</td>\n",
       "      <td>0</td>\n",
       "      <td>...</td>\n",
       "      <td>0</td>\n",
       "      <td>0</td>\n",
       "      <td>3</td>\n",
       "      <td>0</td>\n",
       "      <td>0</td>\n",
       "      <td>0</td>\n",
       "      <td>0</td>\n",
       "      <td>2.0</td>\n",
       "      <td>1.0</td>\n",
       "      <td>371</td>\n",
       "    </tr>\n",
       "  </tbody>\n",
       "</table>\n",
       "<p>5 rows × 31 columns</p>\n",
       "</div>"
      ],
      "text/plain": [
       "   id  death  los  age  gender  cancer  cabg  crt  defib  dementia  ...  \\\n",
       "0   1      0    2   90       2       0     0    0      0         0  ...   \n",
       "1   2      0   10   74       1       0     0    0      0         0  ...   \n",
       "2   3      0    3   83       2       0     0    0      0         0  ...   \n",
       "3   4      0    1   79       1       0     0    0      0         0  ...   \n",
       "4   5      0   17   94       2       0     0    0      0         0  ...   \n",
       "\n",
       "   pacemaker  pneumonia  prior_appts_attended  prior_dnas  pci  stroke  \\\n",
       "0          0          0                     4           0    0       0   \n",
       "1          0          1                     9           1    0       0   \n",
       "2          0          0                     1           0    0       0   \n",
       "3          1          0                     9           2    1       1   \n",
       "4          0          0                     3           0    0       0   \n",
       "\n",
       "   senile  quintile  ethnicgroup  fu_time  \n",
       "0       0       2.0          NaN      416  \n",
       "1       0       4.0          1.0      648  \n",
       "2       0       3.0          1.0      466  \n",
       "3       0       5.0          1.0      441  \n",
       "4       0       2.0          1.0      371  \n",
       "\n",
       "[5 rows x 31 columns]"
      ]
     },
     "execution_count": 4,
     "metadata": {},
     "output_type": "execute_result"
    }
   ],
   "source": [
    "df.head()"
   ]
  },
  {
   "cell_type": "code",
   "execution_count": 5,
   "metadata": {},
   "outputs": [
    {
     "name": "stdout",
     "output_type": "stream",
     "text": [
      "The dataset consist of following number of patients:  1000\n"
     ]
    }
   ],
   "source": [
    "print('The dataset consist of following number of patients: ', df.shape[0])"
   ]
  },
  {
   "cell_type": "markdown",
   "metadata": {},
   "source": [
    "Cox Proportional Hazard's Model ( CoxPH Model )"
   ]
  },
  {
   "cell_type": "code",
   "execution_count": 21,
   "metadata": {},
   "outputs": [],
   "source": [
    "cph = lifelines.CoxPHFitter(penalizer= 0.01)"
   ]
  },
  {
   "cell_type": "markdown",
   "metadata": {},
   "source": [
    "**Model-1**\n",
    "\n",
    "Survival Time: fu_time \n",
    "\n",
    "Event: death \n",
    "\n",
    "Confounding Variables: ethnicgroup , gender"
   ]
  },
  {
   "cell_type": "code",
   "execution_count": 7,
   "metadata": {},
   "outputs": [
    {
     "data": {
      "text/plain": [
       "1.0    889\n",
       "3.0     34\n",
       "2.0     17\n",
       "9.0     17\n",
       "Name: ethnicgroup, dtype: int64"
      ]
     },
     "execution_count": 7,
     "metadata": {},
     "output_type": "execute_result"
    }
   ],
   "source": [
    "df['ethnicgroup'].value_counts()"
   ]
  },
  {
   "cell_type": "code",
   "execution_count": 8,
   "metadata": {},
   "outputs": [
    {
     "data": {
      "text/plain": [
       "1    548\n",
       "2    452\n",
       "Name: gender, dtype: int64"
      ]
     },
     "execution_count": 8,
     "metadata": {},
     "output_type": "execute_result"
    }
   ],
   "source": [
    "df['gender'].value_counts()"
   ]
  },
  {
   "cell_type": "code",
   "execution_count": 9,
   "metadata": {},
   "outputs": [],
   "source": [
    "df_c = df.copy()"
   ]
  },
  {
   "cell_type": "code",
   "execution_count": 10,
   "metadata": {},
   "outputs": [],
   "source": [
    "df_c = df[['ethnicgroup','gender','fu_time', 'death']]"
   ]
  },
  {
   "cell_type": "code",
   "execution_count": 14,
   "metadata": {},
   "outputs": [],
   "source": [
    "df_c = pd.get_dummies(columns=['ethnicgroup','gender'], data= df_c, prefix_sep= '_')"
   ]
  },
  {
   "cell_type": "code",
   "execution_count": 13,
   "metadata": {},
   "outputs": [
    {
     "data": {
      "text/html": [
       "<div>\n",
       "<style scoped>\n",
       "    .dataframe tbody tr th:only-of-type {\n",
       "        vertical-align: middle;\n",
       "    }\n",
       "\n",
       "    .dataframe tbody tr th {\n",
       "        vertical-align: top;\n",
       "    }\n",
       "\n",
       "    .dataframe thead th {\n",
       "        text-align: right;\n",
       "    }\n",
       "</style>\n",
       "<table border=\"1\" class=\"dataframe\">\n",
       "  <thead>\n",
       "    <tr style=\"text-align: right;\">\n",
       "      <th></th>\n",
       "      <th>fu_time</th>\n",
       "      <th>death</th>\n",
       "      <th>ethnicgroup_1.0</th>\n",
       "      <th>ethnicgroup_2.0</th>\n",
       "      <th>ethnicgroup_3.0</th>\n",
       "      <th>ethnicgroup_9.0</th>\n",
       "      <th>gender_1</th>\n",
       "      <th>gender_2</th>\n",
       "    </tr>\n",
       "  </thead>\n",
       "  <tbody>\n",
       "    <tr>\n",
       "      <td>0</td>\n",
       "      <td>416</td>\n",
       "      <td>0</td>\n",
       "      <td>0</td>\n",
       "      <td>0</td>\n",
       "      <td>0</td>\n",
       "      <td>0</td>\n",
       "      <td>0</td>\n",
       "      <td>1</td>\n",
       "    </tr>\n",
       "    <tr>\n",
       "      <td>1</td>\n",
       "      <td>648</td>\n",
       "      <td>0</td>\n",
       "      <td>1</td>\n",
       "      <td>0</td>\n",
       "      <td>0</td>\n",
       "      <td>0</td>\n",
       "      <td>1</td>\n",
       "      <td>0</td>\n",
       "    </tr>\n",
       "    <tr>\n",
       "      <td>2</td>\n",
       "      <td>466</td>\n",
       "      <td>0</td>\n",
       "      <td>1</td>\n",
       "      <td>0</td>\n",
       "      <td>0</td>\n",
       "      <td>0</td>\n",
       "      <td>0</td>\n",
       "      <td>1</td>\n",
       "    </tr>\n",
       "    <tr>\n",
       "      <td>3</td>\n",
       "      <td>441</td>\n",
       "      <td>0</td>\n",
       "      <td>1</td>\n",
       "      <td>0</td>\n",
       "      <td>0</td>\n",
       "      <td>0</td>\n",
       "      <td>1</td>\n",
       "      <td>0</td>\n",
       "    </tr>\n",
       "    <tr>\n",
       "      <td>4</td>\n",
       "      <td>371</td>\n",
       "      <td>0</td>\n",
       "      <td>1</td>\n",
       "      <td>0</td>\n",
       "      <td>0</td>\n",
       "      <td>0</td>\n",
       "      <td>0</td>\n",
       "      <td>1</td>\n",
       "    </tr>\n",
       "  </tbody>\n",
       "</table>\n",
       "</div>"
      ],
      "text/plain": [
       "   fu_time  death  ethnicgroup_1.0  ethnicgroup_2.0  ethnicgroup_3.0  \\\n",
       "0      416      0                0                0                0   \n",
       "1      648      0                1                0                0   \n",
       "2      466      0                1                0                0   \n",
       "3      441      0                1                0                0   \n",
       "4      371      0                1                0                0   \n",
       "\n",
       "   ethnicgroup_9.0  gender_1  gender_2  \n",
       "0                0         0         1  \n",
       "1                0         1         0  \n",
       "2                0         0         1  \n",
       "3                0         1         0  \n",
       "4                0         0         1  "
      ]
     },
     "execution_count": 13,
     "metadata": {},
     "output_type": "execute_result"
    }
   ],
   "source": [
    "df_c.head()"
   ]
  },
  {
   "cell_type": "code",
   "execution_count": 24,
   "metadata": {},
   "outputs": [
    {
     "name": "stdout",
     "output_type": "stream",
     "text": [
      "Iteration 1: norm_delta = 0.12604, step_size = 0.0100, log_lik = -2956.59206, newton_decrement = 4.81607, seconds_since_start = 0.0\n",
      "Iteration 2: norm_delta = 0.12557, step_size = 0.0100, log_lik = -2956.49621, newton_decrement = 4.74963, seconds_since_start = 0.1\n",
      "Iteration 3: norm_delta = 0.12510, step_size = 0.0100, log_lik = -2956.40170, newton_decrement = 4.68403, seconds_since_start = 0.1\n",
      "Iteration 4: norm_delta = 0.12453, step_size = 0.0120, log_lik = -2956.28995, newton_decrement = 4.60635, seconds_since_start = 0.1\n",
      "Iteration 5: norm_delta = 0.12384, step_size = 0.0144, log_lik = -2956.15824, newton_decrement = 4.51464, seconds_since_start = 0.1\n",
      "Iteration 6: norm_delta = 0.12302, step_size = 0.0173, log_lik = -2956.00356, newton_decrement = 4.40670, seconds_since_start = 0.2\n",
      "Iteration 7: norm_delta = 0.12203, step_size = 0.0207, log_lik = -2955.82269, newton_decrement = 4.28016, seconds_since_start = 0.2\n",
      "Iteration 8: norm_delta = 0.12083, step_size = 0.0249, log_lik = -2955.61232, newton_decrement = 4.13253, seconds_since_start = 0.2\n",
      "Iteration 9: norm_delta = 0.11940, step_size = 0.0299, log_lik = -2955.36919, newton_decrement = 3.96126, seconds_since_start = 0.3\n",
      "Iteration 10: norm_delta = 0.11767, step_size = 0.0358, log_lik = -2955.09036, newton_decrement = 3.76394, seconds_since_start = 0.3\n",
      "Iteration 11: norm_delta = 0.11558, step_size = 0.0430, log_lik = -2954.77358, newton_decrement = 3.53851, seconds_since_start = 0.3\n",
      "Iteration 12: norm_delta = 0.11307, step_size = 0.0516, log_lik = -2954.41775, newton_decrement = 3.28355, seconds_since_start = 0.3\n",
      "Iteration 13: norm_delta = 0.11003, step_size = 0.0619, log_lik = -2954.02357, newton_decrement = 2.99877, seconds_since_start = 0.4\n",
      "Iteration 14: norm_delta = 0.10636, step_size = 0.0743, log_lik = -2953.59428, newton_decrement = 2.68545, seconds_since_start = 0.4\n",
      "Iteration 15: norm_delta = 0.10192, step_size = 0.0892, log_lik = -2953.13642, newton_decrement = 2.34712, seconds_since_start = 0.4\n",
      "Iteration 16: norm_delta = 0.09657, step_size = 0.1070, log_lik = -2952.66055, newton_decrement = 1.99016, seconds_since_start = 0.5\n",
      "Iteration 17: norm_delta = 0.09014, step_size = 0.1284, log_lik = -2952.18165, newton_decrement = 1.62432, seconds_since_start = 0.5\n",
      "Iteration 18: norm_delta = 0.08245, step_size = 0.1541, log_lik = -2951.71880, newton_decrement = 1.26296, seconds_since_start = 0.5\n",
      "Iteration 19: norm_delta = 0.07338, step_size = 0.1849, log_lik = -2951.29387, newton_decrement = 0.92256, seconds_since_start = 0.5\n",
      "Iteration 20: norm_delta = 0.06287, step_size = 0.2219, log_lik = -2950.92869, newton_decrement = 0.62121, seconds_since_start = 0.6\n",
      "Iteration 21: norm_delta = 0.05111, step_size = 0.2662, log_lik = -2950.64071, newton_decrement = 0.37556, seconds_since_start = 0.6\n",
      "Iteration 22: norm_delta = 0.03861, step_size = 0.3195, log_lik = -2950.43803, newton_decrement = 0.19647, seconds_since_start = 0.6\n",
      "Iteration 23: norm_delta = 0.02632, step_size = 0.3834, log_lik = -2950.31554, newton_decrement = 0.08438, seconds_since_start = 0.7\n",
      "Iteration 24: norm_delta = 0.01554, step_size = 0.4601, log_lik = -2950.25540, newton_decrement = 0.02756, seconds_since_start = 0.7\n",
      "Iteration 25: norm_delta = 0.00747, step_size = 0.5521, log_lik = -2950.23324, newton_decrement = 0.00609, seconds_since_start = 0.7\n",
      "Iteration 26: norm_delta = 0.00265, step_size = 0.6625, log_lik = -2950.22782, newton_decrement = 0.00075, seconds_since_start = 0.8\n",
      "Iteration 27: norm_delta = 0.00056, step_size = 0.7950, log_lik = -2950.22710, newton_decrement = 0.00003, seconds_since_start = 0.8\n",
      "Iteration 28: norm_delta = 0.00003, step_size = 0.9540, log_lik = -2950.22707, newton_decrement = 0.00000, seconds_since_start = 0.8\n",
      "Convergence success after 28 iterations.\n"
     ]
    },
    {
     "data": {
      "text/plain": [
       "<lifelines.CoxPHFitter: fitted with 1000 total observations, 508 right-censored observations>"
      ]
     },
     "execution_count": 24,
     "metadata": {},
     "output_type": "execute_result"
    }
   ],
   "source": [
    "cph.fit(df_c , event_col= 'death' , duration_col= 'fu_time', show_progress= True , step_size= 0.01)"
   ]
  },
  {
   "cell_type": "code",
   "execution_count": 25,
   "metadata": {},
   "outputs": [
    {
     "data": {
      "text/html": [
       "<div>\n",
       "<style scoped>\n",
       "    .dataframe tbody tr th:only-of-type {\n",
       "        vertical-align: middle;\n",
       "    }\n",
       "\n",
       "    .dataframe tbody tr th {\n",
       "        vertical-align: top;\n",
       "    }\n",
       "\n",
       "    .dataframe thead th {\n",
       "        text-align: right;\n",
       "    }\n",
       "</style>\n",
       "<table border=\"1\" class=\"dataframe\">\n",
       "  <tbody>\n",
       "    <tr>\n",
       "      <th>model</th>\n",
       "      <td>lifelines.CoxPHFitter</td>\n",
       "    </tr>\n",
       "    <tr>\n",
       "      <th>duration col</th>\n",
       "      <td>'fu_time'</td>\n",
       "    </tr>\n",
       "    <tr>\n",
       "      <th>event col</th>\n",
       "      <td>'death'</td>\n",
       "    </tr>\n",
       "    <tr>\n",
       "      <th>penalizer</th>\n",
       "      <td>0.01</td>\n",
       "    </tr>\n",
       "    <tr>\n",
       "      <th>l1 ratio</th>\n",
       "      <td>0</td>\n",
       "    </tr>\n",
       "    <tr>\n",
       "      <th>baseline estimation</th>\n",
       "      <td>breslow</td>\n",
       "    </tr>\n",
       "    <tr>\n",
       "      <th>number of observations</th>\n",
       "      <td>1000</td>\n",
       "    </tr>\n",
       "    <tr>\n",
       "      <th>number of events observed</th>\n",
       "      <td>492</td>\n",
       "    </tr>\n",
       "    <tr>\n",
       "      <th>partial log-likelihood</th>\n",
       "      <td>-2950.23</td>\n",
       "    </tr>\n",
       "    <tr>\n",
       "      <th>time fit was run</th>\n",
       "      <td>2020-03-22 09:18:15 UTC</td>\n",
       "    </tr>\n",
       "  </tbody>\n",
       "</table>\n",
       "</div><table border=\"1\" class=\"dataframe\">\n",
       "  <thead>\n",
       "    <tr style=\"text-align: right;\">\n",
       "      <th></th>\n",
       "      <th>coef</th>\n",
       "      <th>exp(coef)</th>\n",
       "      <th>se(coef)</th>\n",
       "      <th>coef lower 95%</th>\n",
       "      <th>coef upper 95%</th>\n",
       "      <th>exp(coef) lower 95%</th>\n",
       "      <th>exp(coef) upper 95%</th>\n",
       "      <th>z</th>\n",
       "      <th>p</th>\n",
       "      <th>-log2(p)</th>\n",
       "    </tr>\n",
       "  </thead>\n",
       "  <tbody>\n",
       "    <tr>\n",
       "      <th>ethnicgroup_1.0</th>\n",
       "      <td>0.04</td>\n",
       "      <td>1.04</td>\n",
       "      <td>0.22</td>\n",
       "      <td>-0.39</td>\n",
       "      <td>0.46</td>\n",
       "      <td>0.68</td>\n",
       "      <td>1.58</td>\n",
       "      <td>0.16</td>\n",
       "      <td>0.87</td>\n",
       "      <td>0.20</td>\n",
       "    </tr>\n",
       "    <tr>\n",
       "      <th>ethnicgroup_2.0</th>\n",
       "      <td>-0.03</td>\n",
       "      <td>0.97</td>\n",
       "      <td>0.38</td>\n",
       "      <td>-0.77</td>\n",
       "      <td>0.71</td>\n",
       "      <td>0.46</td>\n",
       "      <td>2.03</td>\n",
       "      <td>-0.09</td>\n",
       "      <td>0.93</td>\n",
       "      <td>0.10</td>\n",
       "    </tr>\n",
       "    <tr>\n",
       "      <th>ethnicgroup_3.0</th>\n",
       "      <td>-1.10</td>\n",
       "      <td>0.33</td>\n",
       "      <td>0.44</td>\n",
       "      <td>-1.96</td>\n",
       "      <td>-0.25</td>\n",
       "      <td>0.14</td>\n",
       "      <td>0.78</td>\n",
       "      <td>-2.53</td>\n",
       "      <td>0.01</td>\n",
       "      <td>6.46</td>\n",
       "    </tr>\n",
       "    <tr>\n",
       "      <th>ethnicgroup_9.0</th>\n",
       "      <td>0.13</td>\n",
       "      <td>1.14</td>\n",
       "      <td>0.41</td>\n",
       "      <td>-0.67</td>\n",
       "      <td>0.93</td>\n",
       "      <td>0.51</td>\n",
       "      <td>2.53</td>\n",
       "      <td>0.31</td>\n",
       "      <td>0.75</td>\n",
       "      <td>0.41</td>\n",
       "    </tr>\n",
       "    <tr>\n",
       "      <th>gender_1</th>\n",
       "      <td>-0.02</td>\n",
       "      <td>0.98</td>\n",
       "      <td>0.45</td>\n",
       "      <td>-0.91</td>\n",
       "      <td>0.86</td>\n",
       "      <td>0.40</td>\n",
       "      <td>2.37</td>\n",
       "      <td>-0.05</td>\n",
       "      <td>0.96</td>\n",
       "      <td>0.05</td>\n",
       "    </tr>\n",
       "    <tr>\n",
       "      <th>gender_2</th>\n",
       "      <td>0.02</td>\n",
       "      <td>1.02</td>\n",
       "      <td>0.45</td>\n",
       "      <td>-0.86</td>\n",
       "      <td>0.91</td>\n",
       "      <td>0.42</td>\n",
       "      <td>2.47</td>\n",
       "      <td>0.05</td>\n",
       "      <td>0.96</td>\n",
       "      <td>0.05</td>\n",
       "    </tr>\n",
       "  </tbody>\n",
       "</table><div>\n",
       "<style scoped>\n",
       "    .dataframe tbody tr th:only-of-type {\n",
       "        vertical-align: middle;\n",
       "    }\n",
       "\n",
       "    .dataframe tbody tr th {\n",
       "        vertical-align: top;\n",
       "    }\n",
       "\n",
       "    .dataframe thead th {\n",
       "        text-align: right;\n",
       "    }\n",
       "</style>\n",
       "<table border=\"1\" class=\"dataframe\">\n",
       "  <tbody>\n",
       "    <tr>\n",
       "      <th>Log-likelihood ratio test</th>\n",
       "      <td>12.73 on 6 df, -log2(p)=4.40</td>\n",
       "    </tr>\n",
       "  </tbody>\n",
       "</table>\n",
       "</div>"
      ],
      "text/plain": [
       "<IPython.core.display.HTML object>"
      ]
     },
     "metadata": {},
     "output_type": "display_data"
    }
   ],
   "source": [
    "cph.print_summary()"
   ]
  },
  {
   "cell_type": "code",
   "execution_count": 51,
   "metadata": {},
   "outputs": [
    {
     "data": {
      "text/plain": [
       "ethnicgroup_1.0    1.035818\n",
       "ethnicgroup_2.0    0.968217\n",
       "ethnicgroup_3.0    0.331351\n",
       "ethnicgroup_9.0    1.137068\n",
       "gender_1           0.979607\n",
       "gender_2           1.020818\n",
       "Name: exp(coef), dtype: float64"
      ]
     },
     "execution_count": 51,
     "metadata": {},
     "output_type": "execute_result"
    }
   ],
   "source": [
    "# Following are the hazard ratios for different group:\n",
    "\n",
    "cph.hazard_ratios_"
   ]
  },
  {
   "cell_type": "code",
   "execution_count": 55,
   "metadata": {},
   "outputs": [
    {
     "data": {
      "text/plain": [
       "<matplotlib.axes._subplots.AxesSubplot at 0x134f1b4d0>"
      ]
     },
     "execution_count": 55,
     "metadata": {},
     "output_type": "execute_result"
    },
    {
     "data": {
      "image/png": "[encoded data removed]",
      "text/plain": [
       "<Figure size 432x288 with 1 Axes>"
      ]
     },
     "metadata": {
      "needs_background": "light"
     },
     "output_type": "display_data"
    }
   ],
   "source": [
    "# Plotting the baseline survival function\n",
    "cph.baseline_survival_.plot()"
   ]
  },
  {
   "cell_type": "code",
   "execution_count": 59,
   "metadata": {},
   "outputs": [
    {
     "data": {
      "text/plain": [
       "<matplotlib.axes._subplots.AxesSubplot at 0x134f1bb10>"
      ]
     },
     "execution_count": 59,
     "metadata": {},
     "output_type": "execute_result"
    },
    {
     "data": {
      "image/png": "[encoded data removed]",
      "text/plain": [
       "<Figure size 576x576 with 1 Axes>"
      ]
     },
     "metadata": {
      "needs_background": "light"
     },
     "output_type": "display_data"
    }
   ],
   "source": [
    "# Plotting the coefficients for CoxPH Model\n",
    "plt.figure(figsize=(8,8))\n",
    "cph.plot(hazard_ratios= False)"
   ]
  },
  {
   "cell_type": "code",
   "execution_count": 62,
   "metadata": {},
   "outputs": [
    {
     "name": "stdout",
     "output_type": "stream",
     "text": [
      "Log-Likelihood of the CoxPH Model is:  -2.9500233738949526\n"
     ]
    }
   ],
   "source": [
    "print('Log-Likelihood of the CoxPH Model is: ',cph.score(df_c, scoring_method= 'log_likelihood'))"
   ]
  }
 ],
 "metadata": {
  "kernelspec": {
   "display_name": "Python 3",
   "language": "python",
   "name": "python3"
  },
  "language_info": {
   "codemirror_mode": {
    "name": "ipython",
    "version": 3
   },
   "file_extension": ".py",
   "mimetype": "text/x-python",
   "name": "python",
   "nbconvert_exporter": "python",
   "pygments_lexer": "ipython3",
   "version": "3.7.4"
  }
 },
 "nbformat": 4,
 "nbformat_minor": 4
}
